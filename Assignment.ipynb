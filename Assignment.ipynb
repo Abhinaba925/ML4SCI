{
 "cells": [
  {
   "cell_type": "markdown",
   "id": "9992620a-2cf9-4497-b70c-4f48aa753024",
   "metadata": {},
   "source": [
    "# Task 1: Part I\n"
   ]
  },
  {
   "cell_type": "code",
   "execution_count": 1,
   "id": "7e43a201-c880-4385-9a0e-8432761ff770",
   "metadata": {},
   "outputs": [
    {
     "name": "stdout",
     "output_type": "stream",
     "text": [
      "0: ───H───@──────────────────────×───\n",
      "          │                      │\n",
      "1: ───H───X───@──────────────────┼───\n",
      "              │                  │\n",
      "2: ───H───────X───@───Rx(0.5π)───┼───\n",
      "                  │              │\n",
      "3: ───H───────────X───@──────────┼───\n",
      "                      │          │\n",
      "4: ───H───────────────X──────────×───\n"
     ]
    }
   ],
   "source": [
    "import cirq\n",
    "import numpy as np\n",
    "import matplotlib.pyplot as plt\n",
    "# a) Initialize 5 qubits\n",
    "qubits = [cirq.LineQubit(i) for i in range(5)]\n",
    "\n",
    "# b) Hadamard on all qubits \n",
    "circuit = cirq.Circuit()  # Create a circuit\n",
    "circuit.append(cirq.H(q) for q in qubits) \n",
    "\n",
    "# c) CNOT operations\n",
    "circuit.append([\n",
    "    cirq.CNOT(qubits[0], qubits[1]),\n",
    "    cirq.CNOT(qubits[1], qubits[2]),\n",
    "    cirq.CNOT(qubits[2], qubits[3]),\n",
    "    cirq.CNOT(qubits[3], qubits[4])\n",
    "])\n",
    "\n",
    "# d) SWAP \n",
    "circuit.append(cirq.SWAP(qubits[0], qubits[4]))\n",
    "\n",
    "# e) Rotate X\n",
    "circuit.append(cirq.Rx(rads=np.pi/2)(qubits[2]))  # Pick any qubit\n",
    "\n",
    "# f) Plot the circuit\n",
    "print(circuit)"
   ]
  },
  {
   "cell_type": "markdown",
   "id": "009f7ad0-b1af-4e81-83ba-ec9e81a9ea64",
   "metadata": {},
   "source": []
  },
  {
   "cell_type": "markdown",
   "id": "108c97e9-9869-459a-b071-47471b90865e",
   "metadata": {},
   "source": [
    "# Task 1: Part II\n"
   ]
  },
  {
   "cell_type": "code",
   "execution_count": 2,
   "id": "0e642888-7edb-438c-9a9b-354d518be974",
   "metadata": {},
   "outputs": [
    {
     "name": "stdout",
     "output_type": "stream",
     "text": [
      "                   ┌──┐\n",
      "0: ───H─────────────@─────────────\n",
      "                    │\n",
      "1: ───Rx(0.333π)────┼@────────────\n",
      "                    ││\n",
      "2: ───H─────────────X┼────H───M───\n",
      "                     │\n",
      "3: ───H──────────────X────────────\n",
      "                   └──┘\n"
     ]
    }
   ],
   "source": [
    "import cirq\n",
    "import numpy as np\n",
    "import matplotlib.pyplot as plt\n",
    "# Create qubits\n",
    "q1, q2, q3, q4 = cirq.LineQubit.range(4)\n",
    "\n",
    "# Create the circuit\n",
    "circuit = cirq.Circuit()\n",
    "\n",
    "# Apply Hadamard to the first qubit\n",
    "circuit.append(cirq.H(q1))\n",
    "\n",
    "# Rotate the second qubit by pi/3 around X\n",
    "circuit.append(cirq.Rx(rads=np.pi/3)(q2))\n",
    "\n",
    "# Apply Hadamard to the third and fourth qubit\n",
    "circuit.append(cirq.H(q3))\n",
    "circuit.append(cirq.H(q4))\n",
    "\n",
    "# Perform a Swap Test (this requires some explanation - see below)\n",
    "circuit.append(cirq.CNOT(q1, q3))\n",
    "circuit.append(cirq.CNOT(q2, q4))\n",
    "circuit.append(cirq.H(q3))\n",
    "circuit.append(cirq.measure(q3)) \n",
    "\n",
    "# Print the circuit\n",
    "print(circuit)\n"
   ]
  },
  {
   "cell_type": "markdown",
   "id": "db99971b-1f3f-410e-b0c2-091d62277bd2",
   "metadata": {},
   "source": [
    "# -------------------------End of Task I Part 1 and Part 2 ---------------------------------\n"
   ]
  },
  {
   "cell_type": "markdown",
   "id": "7170c013-3832-4753-a5b1-06b04d9aaa28",
   "metadata": {},
   "source": [
    "# Task III"
   ]
  },
  {
   "cell_type": "markdown",
   "id": "2a5d9a1b-c572-44b6-9f10-9cb711f3b9b3",
   "metadata": {},
   "source": [
    "# Answer to this part is written in TaskIII.pdf file\n"
   ]
  },
  {
   "cell_type": "markdown",
   "id": "1e871b06-f1db-41eb-8a73-d661cb53d732",
   "metadata": {},
   "source": [
    "# Task II "
   ]
  },
  {
   "cell_type": "code",
   "execution_count": 166,
   "id": "914068c0-ab5a-4a76-b3ee-1350e944a694",
   "metadata": {},
   "outputs": [
    {
     "name": "stdout",
     "output_type": "stream",
     "text": [
      "Shape of X: (100000, 139, 4)\n",
      "Shape of y: (100000,)\n"
     ]
    }
   ],
   "source": [
    "import numpy as np\n",
    "import torch\n",
    "from torch_geometric.data import Data\n",
    "\n",
    "# Load dataset\n",
    "dataset = np.load('QG_jets.npz')\n",
    "X = dataset['X']  # Shape: (100000, M, 4)\n",
    "y = dataset['y']  # Shape: (100000,)\n",
    "print(\"Shape of X:\", X.shape)\n",
    "print(\"Shape of y:\", y.shape)\n",
    "\n"
   ]
  },
  {
   "cell_type": "code",
   "execution_count": 4,
   "id": "3731514d-fde4-449f-bbcf-21a429a0c7fe",
   "metadata": {},
   "outputs": [
    {
     "data": {
      "text/plain": [
       "\"def create_graphs(X, y):\\n    graphs = []\\n    for i in range(len(X)):\\n        # Simplified graph construction; in practice, you'd use k-NN or other criteria\\n        edge_index = torch.tensor([[0, 1], [1, 2], [2, 3], [3, 4], [0, 4]], dtype=torch.long)  # Example edge index\\n        x = torch.tensor(X[i], dtype=torch.float)  # Node features\\n        label = torch.tensor([y[i]], dtype=torch.float)  # Graph label\\n        \\n        graph = Data(x=x, edge_index=edge_index.t().contiguous(), y=label)\\n        graphs.append(graph)\\n    return graphs\\n\\ngraphs = create_graphs(X, y)\""
      ]
     },
     "execution_count": 4,
     "metadata": {},
     "output_type": "execute_result"
    }
   ],
   "source": [
    "'''def create_graphs(X, y):\n",
    "    graphs = []\n",
    "    for i in range(len(X)):\n",
    "        # Simplified graph construction; in practice, you'd use k-NN or other criteria\n",
    "        edge_index = torch.tensor([[0, 1], [1, 2], [2, 3], [3, 4], [0, 4]], dtype=torch.long)  # Example edge index\n",
    "        x = torch.tensor(X[i], dtype=torch.float)  # Node features\n",
    "        label = torch.tensor([y[i]], dtype=torch.float)  # Graph label\n",
    "        \n",
    "        graph = Data(x=x, edge_index=edge_index.t().contiguous(), y=label)\n",
    "        graphs.append(graph)\n",
    "    return graphs\n",
    "\n",
    "graphs = create_graphs(X, y)'''\n"
   ]
  },
  {
   "cell_type": "code",
   "execution_count": null,
   "id": "bb6665fe-7dcf-4ea5-bbb9-e4e9d6e37c7f",
   "metadata": {},
   "outputs": [
    {
     "name": "stderr",
     "output_type": "stream",
     "text": [
      "C:\\Users\\91825\\AppData\\Local\\Temp\\ipykernel_7016\\303723847.py:22: DeprecationWarning: an integer is required (got type numpy.float64).  Implicit conversion to integers using __int__ is deprecated, and may be removed in a future version of Python.\n",
      "  label = torch.tensor([y[i]], dtype=torch.long)\n",
      "C:\\ProgramData\\Anaconda3\\lib\\site-packages\\torch_geometric\\deprecation.py:26: UserWarning: 'data.DataLoader' is deprecated, use 'loader.DataLoader' instead\n",
      "  warnings.warn(out)\n"
     ]
    },
    {
     "name": "stdout",
     "output_type": "stream",
     "text": [
      "Epoch: 1, Loss: 0.6159, Test Acc: 0.6806\n",
      "Epoch: 2, Loss: 0.6030, Test Acc: 0.6768\n",
      "Epoch: 3, Loss: 0.6014, Test Acc: 0.6756\n",
      "Epoch: 4, Loss: 0.6005, Test Acc: 0.6762\n",
      "Epoch: 5, Loss: 0.6000, Test Acc: 0.6844\n",
      "Epoch: 6, Loss: 0.5993, Test Acc: 0.6801\n",
      "Epoch: 7, Loss: 0.5996, Test Acc: 0.6831\n",
      "Epoch: 8, Loss: 0.5991, Test Acc: 0.6830\n",
      "Epoch: 9, Loss: 0.5990, Test Acc: 0.6819\n",
      "Epoch: 10, Loss: 0.5993, Test Acc: 0.6900\n",
      "Epoch: 11, Loss: 0.5988, Test Acc: 0.6871\n",
      "Epoch: 12, Loss: 0.5994, Test Acc: 0.6873\n",
      "Epoch: 13, Loss: 0.6014, Test Acc: 0.6820\n",
      "Epoch: 14, Loss: 0.6005, Test Acc: 0.6855\n",
      "Epoch: 15, Loss: 0.5999, Test Acc: 0.6846\n",
      "Epoch: 16, Loss: 0.5993, Test Acc: 0.6859\n",
      "Epoch: 17, Loss: 0.5997, Test Acc: 0.6887\n",
      "Epoch: 18, Loss: 0.5992, Test Acc: 0.6845\n"
     ]
    }
   ],
   "source": [
    "import numpy as np\n",
    "import torch\n",
    "import torch.nn.functional as F\n",
    "from torch_geometric.data import Data, DataLoader\n",
    "from torch_geometric.nn import GCNConv, global_mean_pool\n",
    "from sklearn.model_selection import train_test_split\n",
    "\n",
    "# Load dataset\n",
    "dataset = np.load('QG_jets.npz')\n",
    "X = dataset['X']  # Shape: (100000, M, 4)\n",
    "y = dataset['y']  # Shape: (100000,)\n",
    "\n",
    "# Assuming fully connected graphs for simplicity\n",
    "M = X.shape[1]  # Number of nodes\n",
    "edges = [[i, j] for i in range(M) for j in range(M) if i != j]\n",
    "edges = torch.tensor(edges, dtype=torch.long).t().contiguous()\n",
    "\n",
    "# Convert numpy arrays to PyTorch tensors and prepare PyG Data objects\n",
    "data_list = []\n",
    "for i in range(X.shape[0]):\n",
    "    node_features = torch.tensor(X[i], dtype=torch.float)\n",
    "    label = torch.tensor([y[i]], dtype=torch.long)\n",
    "    data = Data(x=node_features, edge_index=edges, y=label)\n",
    "    data_list.append(data)\n",
    "\n",
    "# Split dataset\n",
    "train_data, test_data = train_test_split(data_list, test_size=0.1, random_state=42)\n",
    "\n",
    "train_loader = DataLoader(train_data, batch_size=32, shuffle=True)\n",
    "test_loader = DataLoader(test_data, batch_size=32, shuffle=False)\n",
    "\n",
    "# Define the GNN model\n",
    "class GNN(torch.nn.Module):\n",
    "    def __init__(self, input_dim, hidden_dim, output_dim):\n",
    "        super(GNN, self).__init__()\n",
    "        self.conv1 = GCNConv(input_dim, hidden_dim)\n",
    "        self.conv2 = GCNConv(hidden_dim, hidden_dim)\n",
    "        self.fc = torch.nn.Linear(hidden_dim, output_dim)\n",
    "\n",
    "    def forward(self, data):\n",
    "        x, edge_index, batch = data.x, data.edge_index, data.batch\n",
    "\n",
    "        x = F.relu(self.conv1(x, edge_index))\n",
    "        x = F.dropout(x, training=self.training)\n",
    "        x = F.relu(self.conv2(x, edge_index))\n",
    "\n",
    "        # Global mean pooling\n",
    "        x = global_mean_pool(x, batch)\n",
    "\n",
    "        # Final classifier\n",
    "        x = self.fc(x)\n",
    "\n",
    "        return F.log_softmax(x, dim=1)\n",
    "\n",
    "# Instantiate the model\n",
    "input_dim = X.shape[2]  # Number of node features\n",
    "hidden_dim = 16\n",
    "output_dim = len(np.unique(y))  # Assuming y contains class labels as integers\n",
    "\n",
    "model = GNN(input_dim, hidden_dim, output_dim)\n",
    "optimizer = torch.optim.Adam(model.parameters(), lr=0.01)\n",
    "criterion = torch.nn.NLLLoss()\n",
    "\n",
    "# Training function\n",
    "def train():\n",
    "    model.train()\n",
    "    total_loss = 0\n",
    "    for data in train_loader:\n",
    "        optimizer.zero_grad()\n",
    "        out = model(data)\n",
    "        loss = criterion(out, data.y.view(-1))\n",
    "        loss.backward()\n",
    "        optimizer.step()\n",
    "        total_loss += loss.item()\n",
    "    return total_loss / len(train_loader)\n",
    "\n",
    "# Testing function\n",
    "def test(loader):\n",
    "    model.eval()\n",
    "    correct = 0\n",
    "    total = 0\n",
    "    with torch.no_grad():\n",
    "        for data in loader:\n",
    "            out = model(data)\n",
    "            _, predicted = torch.max(out, dim=1)\n",
    "            correct += (predicted == data.y.view(-1)).sum().item()\n",
    "            total += data.y.size(0)\n",
    "    return correct / total\n",
    "\n",
    "# Training and testing loops\n",
    "num_epochs = 30\n",
    "for epoch in range(num_epochs):\n",
    "    loss = train()\n",
    "    test_acc = test(test_loader)\n",
    "    print(f'Epoch: {epoch+1}, Loss: {loss:.4f}, Test Acc: {test_acc:.4f}')"
   ]
  },
  {
   "cell_type": "markdown",
   "id": "13fa9463-5fb0-4541-995e-87fc98f12beb",
   "metadata": {},
   "source": [
    "# ------------------------End of Task II-----------------------------#"
   ]
  },
  {
   "cell_type": "markdown",
   "id": "94b5e5a5-62ad-4c64-b70c-7d5cbbd265b9",
   "metadata": {},
   "source": [
    "# Task VIII: Vision transformer/Quantum Vision Transformer"
   ]
  },
  {
   "cell_type": "code",
   "execution_count": 8,
   "id": "5ebe0ee3-2dae-43d4-a640-31c01e4d6f94",
   "metadata": {},
   "outputs": [
    {
     "name": "stdout",
     "output_type": "stream",
     "text": [
      "Using device: cpu\n"
     ]
    }
   ],
   "source": [
    "# Check CUDA availability\n",
    "device = torch.device(\"cuda\" if torch.cuda.is_available() else \"cpu\")\n",
    "print(f\"Using device: {device}\")"
   ]
  },
  {
   "cell_type": "code",
   "execution_count": 9,
   "id": "aab12935-bf02-4f1c-b458-df4b7f5c2e10",
   "metadata": {},
   "outputs": [],
   "source": [
    "import torch\n",
    "import torch.nn as nn\n",
    "import torchvision.transforms as transforms\n",
    "from torchvision.datasets import MNIST\n",
    "from torch.utils.data import DataLoader\n",
    "import torch.nn.functional as F\n",
    "\n",
    "class PatchEmbedding(nn.Module):\n",
    "    def __init__(self, in_channels=1, patch_size=28, emb_size=768, img_size=28):\n",
    "        super().__init__()\n",
    "        self.patch_size = patch_size\n",
    "        self.projection = nn.Sequential(\n",
    "            # Using the entire image as a single patch\n",
    "            nn.Flatten(),\n",
    "            nn.Linear(patch_size * patch_size * in_channels, emb_size)\n",
    "        )\n",
    "    \n",
    "    def forward(self, x):\n",
    "        x = self.projection(x)\n",
    "        return x\n",
    "\n",
    "class TransformerBlock(nn.Module):\n",
    "    def __init__(self, emb_size=768, heads=8, dropout=0.1):\n",
    "        super().__init__()\n",
    "        self.attention = nn.MultiheadAttention(embed_dim=emb_size, num_heads=heads)\n",
    "        self.norm1 = nn.LayerNorm(emb_size)\n",
    "        self.norm2 = nn.LayerNorm(emb_size)\n",
    "        self.ffn = nn.Sequential(\n",
    "            nn.Linear(emb_size, emb_size * 4),\n",
    "            nn.GELU(),\n",
    "            nn.Linear(emb_size * 4, emb_size)\n",
    "        )\n",
    "        self.dropout = nn.Dropout(dropout)\n",
    "    \n",
    "    def forward(self, x):\n",
    "        # Self-attention\n",
    "        attn, _ = self.attention(x, x, x)\n",
    "        x = self.norm1(x + self.dropout(attn))\n",
    "        # Feed-forward\n",
    "        ffn = self.ffn(x)\n",
    "        x = self.norm2(x + self.dropout(ffn))\n",
    "        return x\n",
    "\n",
    "class VisionTransformer(nn.Module):\n",
    "    def __init__(self, patch_size=28, emb_size=768, n_classes=10, img_size=28, channels=1):\n",
    "        super().__init__()\n",
    "        self.patch_embedding = PatchEmbedding(in_channels=channels, patch_size=patch_size, emb_size=emb_size, img_size=img_size)\n",
    "        self.transformer_block = TransformerBlock(emb_size=emb_size)\n",
    "        self.classifier = nn.Linear(emb_size, n_classes)\n",
    "    \n",
    "    def forward(self, x):\n",
    "        x = self.patch_embedding(x)\n",
    "        x = x.unsqueeze(0)  # Dummy batch dimension for self-attention\n",
    "        x = self.transformer_block(x)\n",
    "        x = x.squeeze(0)  # Remove dummy batch dimension\n",
    "        logits = self.classifier(x)\n",
    "        return logits\n",
    "\n",
    "# Model instantiation\n",
    "model = VisionTransformer()\n"
   ]
  },
  {
   "cell_type": "code",
   "execution_count": 10,
   "id": "b7817bf1-2d3a-480a-8a4b-e55f9d5db632",
   "metadata": {},
   "outputs": [],
   "source": [
    "transform = transforms.Compose([transforms.ToTensor()])\n",
    "train_dataset = MNIST(root='./data', train=True, download=True, transform=transform)\n",
    "test_dataset = MNIST(root='./data', train=False, download=True, transform=transform)\n",
    "\n",
    "train_loader = DataLoader(train_dataset, batch_size=64, shuffle=True)\n",
    "test_loader = DataLoader(test_dataset, batch_size=64, shuffle=False)"
   ]
  },
  {
   "cell_type": "code",
   "execution_count": 11,
   "id": "5ed34162-1aa7-4388-b351-8772796c8cfe",
   "metadata": {},
   "outputs": [],
   "source": [
    "device = torch.device(\"cuda\" if torch.cuda.is_available() else \"cpu\")\n",
    "model.to(device)\n",
    "optimizer = torch.optim.Adam(model.parameters(), lr=0.001)\n",
    "criterion = nn.CrossEntropyLoss()"
   ]
  },
  {
   "cell_type": "code",
   "execution_count": 12,
   "id": "48e7a25b-4209-474b-a937-d230fdd17257",
   "metadata": {},
   "outputs": [
    {
     "name": "stdout",
     "output_type": "stream",
     "text": [
      "Epoch 0, Loss: 0.3135006697828582\n",
      "Epoch 1, Loss: 0.17958425032471353\n",
      "Epoch 2, Loss: 0.14392539788522066\n",
      "Epoch 3, Loss: 0.12281021503294741\n",
      "Epoch 4, Loss: 0.10942653459268434\n",
      "Epoch 5, Loss: 0.09814026987632868\n",
      "Epoch 6, Loss: 0.08916634589241051\n",
      "Epoch 7, Loss: 0.08347510157521866\n",
      "Epoch 8, Loss: 0.07800106217475064\n",
      "Epoch 9, Loss: 0.07209392435608436\n"
     ]
    },
    {
     "data": {
      "image/png": "[encoded data removed]",
      "text/plain": [
       "<Figure size 640x480 with 1 Axes>"
      ]
     },
     "metadata": {},
     "output_type": "display_data"
    }
   ],
   "source": [
    "import matplotlib.pyplot as plt\n",
    "\n",
    "# Initialize a list to store loss values\n",
    "loss_values = []\n",
    "\n",
    "for epoch in range(10):  # Example epoch count\n",
    "    epoch_losses = []\n",
    "    for images, labels in train_loader:\n",
    "        images, labels = images.to(device), labels.to(device)\n",
    "        optimizer.zero_grad()\n",
    "        output = model(images)\n",
    "        loss = criterion(output, labels)\n",
    "        loss.backward()\n",
    "        optimizer.step()\n",
    "        epoch_losses.append(loss.item())\n",
    "    # Calculate average loss for the epoch\n",
    "    epoch_loss = sum(epoch_losses) / len(epoch_losses)\n",
    "    loss_values.append(epoch_loss)\n",
    "    print(f\"Epoch {epoch}, Loss: {epoch_loss}\")\n",
    "\n",
    "# Plotting\n",
    "epochs = range(1, len(loss_values) + 1)\n",
    "plt.plot(epochs, loss_values, '-o', label='Training Loss')\n",
    "plt.title('Loss vs. Epoch')\n",
    "plt.xlabel('Epoch')\n",
    "plt.ylabel('Loss')\n",
    "plt.legend()\n",
    "plt.grid(True)\n",
    "plt.show()\n"
   ]
  },
  {
   "cell_type": "markdown",
   "id": "0286c32f-451d-4cc0-8e46-2b5a8dbc6847",
   "metadata": {},
   "source": [
    "# Proposal for Qantum Vision Transformer\n",
    "# 1. Develop quantum data loaders for efficiently encoding images into quantum states\n",
    "# 2. Introduce quantum orthogonal layers to utilize unique quantum properties such as superposition and entanglement in processing image data.\n",
    "# 3.  Implement a basic quantum transformer model that processes each image patch independently with guaranteed orthogonality in the weight matrices.\n",
    "# 4. Create a more complex model that closely mimics classical transformers, utilizing quantum circuits for both feature extraction and patch interaction.\n"
   ]
  },
  {
   "cell_type": "markdown",
   "id": "28c19798-8791-4a0c-9b89-5701438e0b81",
   "metadata": {},
   "source": [
    "# ------------------------End of Task VIII-------------------------#"
   ]
  },
  {
   "cell_type": "markdown",
   "id": "a2d70891-b999-4a47-a6f1-460b3a9e4bdb",
   "metadata": {},
   "source": [
    "# Reference: Kerenidis, Iordanis, et al. \"Quantum Vision Transformers.\" Quantum 8 (2024): 1265."
   ]
  },
  {
   "cell_type": "markdown",
   "id": "1cc11062-72d8-4e81-bf00-d4e8528d6bbc",
   "metadata": {},
   "source": [
    "# Task IV: Quantum Generative Adversarial Network (QGAN)\r\n"
   ]
  },
  {
   "cell_type": "code",
   "execution_count": 64,
   "id": "9ee587c8-bf5e-44ca-bb4c-6920ee1edfa5",
   "metadata": {},
   "outputs": [
    {
     "name": "stdout",
     "output_type": "stream",
     "text": [
      "['training_input', 'test_input']\n",
      "{'0': array([[-0.43079088,  0.86834819, -0.92614721, -0.92662029, -0.56900862],\n",
      "       [ 0.33924198,  0.56155499,  0.93097459, -0.91631726, -0.54463516],\n",
      "       [-0.42888879,  0.87064961, -0.92782179, -0.77533991, -0.58329176],\n",
      "       [-0.43262871,  0.86128919, -0.92240878, -0.88048862, -0.49963115],\n",
      "       [-0.99925345, -0.99949586,  0.07753685, -0.84218034, -0.5149399 ],\n",
      "       [-0.99631106, -0.99775978,  0.0756427 , -0.54117216, -0.66299335],\n",
      "       [-0.42645921,  0.87141204, -0.92908723, -0.52650143, -0.62187526],\n",
      "       [ 0.34317906,  0.57125045,  0.92638556, -0.85113425, -0.40170562],\n",
      "       [-0.99904849, -0.99933931,  0.07737929, -0.81161066, -0.53550246],\n",
      "       [ 0.3371327 ,  0.55874622,  0.92996976, -0.9117092 , -0.50996097],\n",
      "       [ 0.89649306, -0.95523176, -0.66298651, -0.71276678, -0.62698893],\n",
      "       [ 0.34293232,  0.56408047,  0.93448436, -0.88789589, -0.56154273],\n",
      "       [-0.43055876,  0.86615566, -0.92532229, -0.82531102, -0.61433506],\n",
      "       [ 0.33970589,  0.56676702,  0.92567667, -0.91562035, -0.5946945 ],\n",
      "       [-0.99924224, -0.99951208,  0.07752116, -0.8360764 , -0.56981171],\n",
      "       [-0.43099755,  0.86651251, -0.925269  , -0.86698757, -0.5334677 ],\n",
      "       [-0.99937446, -0.99960218,  0.07759084, -0.84990046, -0.57999577],\n",
      "       [-0.99889821, -0.99925173,  0.07726642, -0.78825187, -0.58779546],\n",
      "       [ 0.34950661,  0.58567909,  0.91615208, -0.55392065, -0.71591931],\n",
      "       [-0.9996095 , -0.99972522,  0.07776863, -0.87858433, -0.51991104],\n",
      "       [-0.99941236, -0.99961243,  0.07764686, -0.85816986, -0.53408948],\n",
      "       [-0.99900111, -0.99932936,  0.07736239, -0.80987373, -0.54108498],\n",
      "       [-0.99903613, -0.99944072,  0.0774002 , -0.82528366, -0.58735909],\n",
      "       [-0.99865334, -0.99912034,  0.07716685, -0.77627523, -0.53754642],\n",
      "       [-0.42986358,  0.86654897, -0.925718  , -0.73862815, -0.58674809],\n",
      "       [-0.42826609,  0.8738673 , -0.929425  , -0.83386636, -0.57230481],\n",
      "       [-0.4292864 ,  0.86711   , -0.92616079, -0.67992738, -0.58893727],\n",
      "       [-0.99891246, -0.99935218,  0.07730719, -0.81056136, -0.58817068],\n",
      "       [-0.99943724, -0.99960331,  0.07761935, -0.84897875, -0.57251576],\n",
      "       [-0.43294759,  0.86021519, -0.92189498, -0.87279564, -0.59891923],\n",
      "       [-0.99916459, -0.99946953,  0.07745698, -0.82671955, -0.58793255],\n",
      "       [-0.99341325, -0.99601417,  0.07387947, -0.24695737, -0.73035246],\n",
      "       [-0.99991548, -0.99993058,  0.07794216, -0.90504651, -0.56418312],\n",
      "       [-0.99922291, -0.99953394,  0.07750004, -0.83864938, -0.5907458 ],\n",
      "       [-0.43169009,  0.8646533 , -0.92421266, -0.89228919, -0.52078182],\n",
      "       [-0.99880664, -0.99928854,  0.07727578, -0.80952183, -0.5345482 ],\n",
      "       [-0.42616344,  0.88033088, -0.93295403, -0.82686517, -0.55077716],\n",
      "       [-0.43139955,  0.86308588, -0.92365803, -0.79283965, -0.56396112],\n",
      "       [-0.42911949,  0.86960978, -0.92732509, -0.76203901, -0.59011644],\n",
      "       [-0.43195732,  0.86474019, -0.92418549, -0.92918364, -0.59731155],\n",
      "       [ 0.88467977, -0.95414347, -0.66293153, -0.82036316, -0.59800758],\n",
      "       [ 0.88789478, -0.95460466, -0.66579754, -0.74234352, -0.64920965],\n",
      "       [-0.99902527, -0.99935633,  0.07734482, -0.80286049, -0.61041081],\n",
      "       [ 0.91931151, -0.94505739, -0.67409081, -0.63394305, -0.62119434],\n",
      "       [-0.43082934,  0.86509194, -0.92477223, -0.78937098, -0.60215747],\n",
      "       [ 0.34116539,  0.5652242 ,  0.93031814, -0.91565387, -0.59557556],\n",
      "       [-0.42622734,  0.88083524, -0.93317473, -0.86019392, -0.57646517],\n",
      "       [-0.99827896, -0.99902924,  0.07692876, -0.75539493, -0.62698962],\n",
      "       [-0.99820057, -0.99867978,  0.07680484, -0.70805718, -0.47476004],\n",
      "       [-0.43178015,  0.86266855, -0.92335757, -0.83674549, -0.5820067 ]]), '1': array([[-0.42298067,  0.88630865, -0.93661218, -0.64944313, -0.39193538],\n",
      "       [ 0.90999432, -0.94429141, -0.6746157 , -0.80518637, -0.53296538],\n",
      "       [-0.99909734, -0.99933762,  0.07749262, -0.83351171, -0.393053  ],\n",
      "       [ 0.35152705,  0.5794319 ,  0.91806358, -0.00923369, -0.75412351],\n",
      "       [ 0.34399902,  0.57339474,  0.92616223, -0.91269157, -0.51149302],\n",
      "       [-0.42905645,  0.86662382, -0.92592506, -0.65770698, -0.38264457],\n",
      "       [ 0.88005236, -0.9599969 , -0.66609191, -0.8764421 , -0.58517572],\n",
      "       [-0.99793345, -0.99872791,  0.07670388, -0.71240287, -0.56441582],\n",
      "       [ 0.91213483, -0.91733005, -0.65528741, -0.67448585, -0.51199249],\n",
      "       [ 0.88551226, -0.94868142, -0.66252618, -0.90843762, -0.59915173],\n",
      "       [ 0.89150504, -0.94960047, -0.67068894,  0.15565222, -0.84421124],\n",
      "       [ 0.88909834, -0.94318762, -0.67148287, -0.84064276, -0.60912642],\n",
      "       [ 0.90255888, -0.92328057, -0.67519978, -0.57106936, -0.66341163],\n",
      "       [ 0.8976049 , -0.94774689, -0.66648593, -0.65464116, -0.52345396],\n",
      "       [-0.43030625,  0.86671232, -0.92539398, -0.82285501, -0.16938372],\n",
      "       [-0.42585346,  0.86764478, -0.9275629 , -0.32038269, -0.50555058],\n",
      "       [-0.43160184,  0.86429225, -0.92408762, -0.85714772, -0.54078138],\n",
      "       [ 0.34190452,  0.57019409,  0.9243911 , -0.8128156 , -0.58818964],\n",
      "       [ 0.89132992, -0.9483933 , -0.65619896, -0.88958426, -0.54497086],\n",
      "       [ 0.890744  , -0.95340342, -0.66924037, -0.79894801, -0.56738322],\n",
      "       [ 0.91361551, -0.94972251, -0.67585399, -0.50145697, -0.1911723 ],\n",
      "       [ 0.88935183, -0.94313315, -0.66904492, -0.79169152, -0.54132759],\n",
      "       [ 0.34476283,  0.57803763,  0.92061164, -0.80268017, -0.32524356],\n",
      "       [ 0.88926914, -0.95421273, -0.66842321, -0.68806207, -0.60578623],\n",
      "       [ 0.89505106, -0.9451298 , -0.67363669, -0.69723999, -0.66076491],\n",
      "       [ 0.362334  ,  0.59572753,  0.93213198, -0.72362975, -0.59988639],\n",
      "       [-0.4288074 ,  0.86967951, -0.92739944, -0.74532187, -0.46450815],\n",
      "       [ 0.88718043, -0.95091359, -0.65983102, -0.8940726 , -0.53211548],\n",
      "       [-0.99846294, -0.99900932,  0.07703519, -0.7582664 , -0.54351981],\n",
      "       [ 0.34178597,  0.56585585,  0.92943783, -0.85569345, -0.56113033],\n",
      "       [ 0.88296536, -0.95481506, -0.66270552, -0.78421127, -0.61179041],\n",
      "       [ 0.88426395, -0.95297205, -0.6626738 , -0.65294941, -0.46763447],\n",
      "       [-0.99590417, -0.99728851,  0.07527463, -0.45478035, -0.64937587],\n",
      "       [ 0.34028029,  0.56005082,  0.93145617, -0.76996587, -0.55614608],\n",
      "       [ 0.88938047, -0.95010936, -0.66373879, -0.80909527, -0.45277393],\n",
      "       [-0.99688379, -0.99798169,  0.07591516, -0.57297135, -0.64869519],\n",
      "       [ 0.90560361, -0.9344575 , -0.65804998, -0.7947352 , -0.58626245],\n",
      "       [ 0.3407186 ,  0.5649425 ,  0.92917793, -0.88543543, -0.45824451],\n",
      "       [ 0.34652975,  0.56915775,  0.93002691, -0.5463081 , -0.61838199],\n",
      "       [ 0.34864817,  0.58382871,  0.91784001, -0.62395809, -0.67006945],\n",
      "       [-0.4268417 ,  0.87348543, -0.92980882, -0.61323903, -0.53234345],\n",
      "       [ 0.93378275, -0.85174182, -0.70941954,  0.05491566, -0.27530413],\n",
      "       [ 0.34210266,  0.56613037,  0.92717996, -0.69534422, -0.62937982],\n",
      "       [ 0.3507178 ,  0.57835822,  0.93047705, -0.73815929, -0.53465596],\n",
      "       [ 0.35258416,  0.58849015,  0.92018786, -0.62128929, -0.58711745],\n",
      "       [ 0.92789668, -0.90635417, -0.64723127, -0.61636877, -0.534791  ],\n",
      "       [-0.43018391,  0.86569257, -0.92522163, -0.72360566, -0.50565552],\n",
      "       [ 0.3490436 ,  0.5855566 ,  0.91734464, -0.60993714, -0.58527924],\n",
      "       [ 0.34434515,  0.56629373,  0.93026591, -0.6060978 , -0.64930218],\n",
      "       [ 0.88125135, -0.95437964, -0.66664384, -0.78187561, -0.64345757]])}\n",
      "{'0': array([[-0.43080401,  0.86308617, -0.92383665, -0.7288808 , -0.53944676],\n",
      "       [ 0.33955674,  0.5637837 ,  0.92720881, -0.81843942, -0.6058888 ],\n",
      "       [ 0.88826449, -0.94407139, -0.66863101, -0.75178845, -0.60501115],\n",
      "       [-0.99698887, -0.99830749,  0.07614012, -0.64736972, -0.61107892],\n",
      "       [-0.42987561,  0.86729839, -0.92592964, -0.77358656, -0.45954928],\n",
      "       [-0.99903924, -0.99940754,  0.07740513, -0.81484426, -0.59764327],\n",
      "       [ 0.89527424, -0.93164945, -0.67830638, -0.17547695,  0.58070215],\n",
      "       [-0.99867731, -0.99920143,  0.07716389, -0.78608448, -0.58575145],\n",
      "       [-0.99954016, -0.99970837,  0.07769953, -0.86504334, -0.59019686],\n",
      "       [-0.99933588, -0.99957473,  0.07758163, -0.84371294, -0.58384261],\n",
      "       [-0.42695331,  0.87580322, -0.93070004, -0.76444273, -0.48976452],\n",
      "       [-0.99885065, -0.99927057,  0.0772765 , -0.79447449, -0.58271023],\n",
      "       [-0.42865325,  0.86878334, -0.92698692, -0.6539855 , -0.34172704],\n",
      "       [-0.99787963, -0.99863084,  0.07661562, -0.69014412, -0.58365828],\n",
      "       [-0.99837662, -0.99910865,  0.0770095 , -0.7782101 , -0.58049142],\n",
      "       [ 0.34392947,  0.5693435 ,  0.92815797, -0.74497354, -0.60182769],\n",
      "       [-0.99953497, -0.99967929,  0.0777224 , -0.86971132, -0.5269121 ],\n",
      "       [-0.99126797, -0.9947514 ,  0.07262369, -0.04116964, -0.74510938],\n",
      "       [-0.99908055, -0.99935528,  0.07737153, -0.8051729 , -0.58513343],\n",
      "       [ 0.89032902, -0.94723034, -0.66399517, -0.71871495, -0.6031206 ],\n",
      "       [-0.99943867, -0.99967164,  0.07765269, -0.86201518, -0.58284056],\n",
      "       [-0.43222666,  0.86209081, -0.92293499, -0.88012618, -0.53858141],\n",
      "       [-0.99842144, -0.99900552,  0.07700095, -0.74857524, -0.5994952 ],\n",
      "       [-0.43256898,  0.86209462, -0.92283848, -0.89380029, -0.5954924 ],\n",
      "       [-0.42912578,  0.87058639, -0.9277482 , -0.78621766, -0.59756796],\n",
      "       [-0.43157153,  0.86361893, -0.92385276, -0.84326503, -0.6164978 ],\n",
      "       [-0.43098602,  0.86253666, -0.92358306, -0.67534123, -0.50955867],\n",
      "       [-0.43094687,  0.8658162 , -0.92501124, -0.83393871, -0.58674407],\n",
      "       [-0.99866788, -0.99920531,  0.0771777 , -0.79422702, -0.54766649],\n",
      "       [-0.43273777,  0.8612637 , -0.92243091, -0.88860458, -0.60421496],\n",
      "       [-0.4322661 ,  0.86274635, -0.92320025, -0.88125417, -0.57723471],\n",
      "       [-0.99832208, -0.99889785,  0.07697653, -0.7430776 , -0.51260027],\n",
      "       [ 0.88906455, -0.94992604, -0.66296404, -0.82195036, -0.6161204 ],\n",
      "       [-0.43242199,  0.86331832, -0.92341113, -0.92948154, -0.58986346],\n",
      "       [ 0.34767309,  0.58003841,  0.92228197, -0.7514035 , -0.62374181],\n",
      "       [-0.43035101,  0.86699525, -0.9257247 , -0.81210162, -0.52763153],\n",
      "       [-0.99778784, -0.99847698,  0.07651813, -0.65872268, -0.58512892],\n",
      "       [-0.99756737, -0.99846888,  0.07650007, -0.66221651, -0.58653339],\n",
      "       [-0.43158202,  0.86098907, -0.92271089, -0.7360913 , -0.61856122],\n",
      "       [-0.99955284, -0.99970701,  0.07771111, -0.86886151, -0.56562602],\n",
      "       [-0.99942309, -0.99964124,  0.07761448, -0.85385332, -0.59691032],\n",
      "       [-0.99914884, -0.99945807,  0.07747295, -0.82914612, -0.56029987],\n",
      "       [-0.43278051,  0.86093604, -0.92225117, -0.88812466, -0.59184068],\n",
      "       [-0.42785893,  0.87013721, -0.92798689, -0.61662395, -0.55879758],\n",
      "       [ 0.34030259,  0.56241848,  0.93167332, -0.90680456, -0.55682875],\n",
      "       [-0.42977085,  0.86736676, -0.92610302, -0.78123001, -0.55259086],\n",
      "       [-0.42849968,  0.87274052, -0.92884721, -0.81527453, -0.5607667 ],\n",
      "       [-0.99818787, -0.99876499,  0.07685375, -0.72337807, -0.49215628],\n",
      "       [-0.99877827, -0.99922868,  0.07724171, -0.78754225, -0.58240214],\n",
      "       [ 0.89285346, -0.93893511, -0.66813116, -0.76865312, -0.66066306]]), '1': array([[ 0.90689447, -0.93479411, -0.65927121, -0.74293159, -0.54760953],\n",
      "       [-0.42184782,  0.89052551, -0.9389674 , -0.70861897, -0.6311667 ],\n",
      "       [ 0.34335972,  0.56596082,  0.92992177, -0.72428136, -0.13970648],\n",
      "       [-0.43004913,  0.8661446 , -0.92550141, -0.70879482, -0.58520283],\n",
      "       [ 0.35036104,  0.57228906,  0.92652707, -0.1880249 , -0.7190437 ],\n",
      "       [-0.42629431,  0.87984351, -0.93268813, -0.81858153, -0.50720301],\n",
      "       [ 0.91672213, -0.92521531, -0.67657942, -0.71835835, -0.60214219],\n",
      "       [ 0.34638486,  0.58103808,  0.91996659, -0.78488732, -0.53485255],\n",
      "       [ 0.3599873 ,  0.58959813,  0.93406185, -0.67490126, -0.59711879],\n",
      "       [ 0.88494423, -0.95662594, -0.66253887, -0.62306573, -0.64104253],\n",
      "       [-0.43116355,  0.86546918, -0.92473105, -0.86154509, -0.50922589],\n",
      "       [-0.42715205,  0.87458862, -0.93019951, -0.72716844, -0.61863442],\n",
      "       [-0.43042302,  0.86533463, -0.92495231, -0.76032081, -0.5120372 ],\n",
      "       [ 0.34697277,  0.58285707,  0.91899981, -0.79689494, -0.40087697],\n",
      "       [ 0.34629836,  0.57567028,  0.92696927, -0.85708201, -0.61931513],\n",
      "       [-0.99801587, -0.99870818,  0.07678466, -0.71725982, -0.48870255],\n",
      "       [-0.42800187,  0.87384419, -0.92947851, -0.80223706, -0.52114468],\n",
      "       [ 0.34691394,  0.57223874,  0.93203858, -0.8556948 , -0.60034294],\n",
      "       [ 0.34547356,  0.57422   ,  0.92633171, -0.81533409, -0.55736157],\n",
      "       [-0.43205391,  0.8612029 , -0.92260418, -0.8246819 , -0.52203251],\n",
      "       [ 0.93340672, -0.95165763, -0.68880997, -0.62519918, -0.55507405],\n",
      "       [ 0.90959403, -0.94089412, -0.67169727, -0.75151705, -0.6063621 ],\n",
      "       [ 0.88910571, -0.94833312, -0.66411822, -0.639409  , -0.21044972],\n",
      "       [ 0.88989098, -0.94811778, -0.65850965, -0.82851997, -0.57555645],\n",
      "       [-0.42901012,  0.87011149, -0.92758595, -0.77032681, -0.5953954 ],\n",
      "       [ 0.34244191,  0.56843782,  0.92728552, -0.80896876, -0.4551285 ],\n",
      "       [ 0.34917913,  0.57548004,  0.91886101, -0.04618507, -0.34192831],\n",
      "       [-0.43003742,  0.86602938, -0.92549205, -0.70228174, -0.63249113],\n",
      "       [-0.99870301, -0.9991251 ,  0.07715473, -0.77213351, -0.56120182],\n",
      "       [-0.99795805, -0.99856388,  0.07686491, -0.73313579, -0.22159224],\n",
      "       [ 0.34834713,  0.57235101,  0.9277259 , -0.45359207, -0.48160926],\n",
      "       [-0.42184782,  0.89052551, -0.9389674 , -0.70861897, -0.6311667 ],\n",
      "       [ 0.88990737, -0.95061773, -0.66311951, -0.82060348, -0.58798499],\n",
      "       [-0.43014458,  0.86975118, -0.92696748, -0.90428701, -0.55016704],\n",
      "       [-0.9985547 , -0.99905237,  0.07713925, -0.77271806, -0.48992786],\n",
      "       [-0.99858757, -0.99908176,  0.07706081, -0.76060934, -0.60066967],\n",
      "       [ 0.90188487, -0.94156087, -0.661881  , -0.21453967, -0.64135111],\n",
      "       [ 0.88156777, -0.95896986, -0.66323095, -0.81024967, -0.63449728],\n",
      "       [ 0.90276812, -0.91913964, -0.67116558, -0.68397294, -0.60849373],\n",
      "       [ 0.89724099, -0.95416238, -0.66312957, -0.84026921, -0.62179175],\n",
      "       [ 0.34311354,  0.56575923,  0.92888695, -0.68097658, -0.66348147],\n",
      "       [ 0.88484065, -0.95250068, -0.66693508, -0.74875858, -0.50433469],\n",
      "       [ 0.3400326 ,  0.5650874 ,  0.92595663, -0.77808114, -0.42764128],\n",
      "       [-0.41910386,  0.8840282 , -0.93692662, -0.04135383, -0.35382193],\n",
      "       [-0.42456182,  0.87854429, -0.93276891, -0.60893304, -0.48509134],\n",
      "       [-0.42984943,  0.86623583, -0.92559676, -0.75127326, -0.55676617],\n",
      "       [ 0.34489673,  0.56830642,  0.93350345, -0.89592489, -0.62520496],\n",
      "       [ 0.89630181, -0.93506415, -0.67309517, -0.85184444, -0.57296623],\n",
      "       [ 0.88812193, -0.95006594, -0.66474068, -0.74195712, -0.59825518],\n",
      "       [ 0.34815659,  0.57541096,  0.92986494, -0.8133517 , -0.61248815]])}\n"
     ]
    }
   ],
   "source": [
    "import numpy as np\n",
    "data = np.load('QIS_EXAM_200Events.npz', allow_pickle=True)\n",
    "print(data.files)\n",
    "field1 = data['training_input'] \n",
    "field2 = data['test_input']  \n",
    "print(field1)\n",
    "print(field2)\n",
    "data.close()\n"
   ]
  },
  {
   "cell_type": "code",
   "execution_count": 53,
   "id": "6364b38c-ed77-4714-8d2e-857ca34a59c5",
   "metadata": {},
   "outputs": [],
   "source": [
    "# Extract the encapsulated object from the 0-d arrays\n",
    "training_input_obj = data['training_input'].item()\n",
    "test_input_obj = data['test_input'].item()\n",
    "\n",
    "# Initialize containers for the combined data and labels\n",
    "combined_training_data = []\n",
    "combined_training_labels = []\n",
    "combined_test_data = []\n",
    "combined_test_labels = []\n",
    "\n",
    "# Now, you can iterate over the dictionary objects\n",
    "for key in training_input_obj:\n",
    "    combined_training_data.extend(training_input_obj[key])\n",
    "    combined_training_labels.extend([int(key)] * len(training_input_obj[key]))\n",
    "\n",
    "for key in test_input_obj:\n",
    "    combined_test_data.extend(test_input_obj[key])\n",
    "    combined_test_labels.extend([int(key)] * len(test_input_obj[key]))\n",
    "\n",
    "# Convert lists to numpy arrays for further processing\n",
    "combined_training_data = np.array(combined_training_data)\n",
    "combined_training_labels = np.array(combined_training_labels)\n",
    "combined_test_data = np.array(combined_test_data)\n",
    "combined_test_labels = np.array(combined_test_labels)\n"
   ]
  },
  {
   "cell_type": "code",
   "execution_count": 54,
   "id": "c038d86c-86fa-473e-8c11-64b6f4124860",
   "metadata": {},
   "outputs": [
    {
     "data": {
      "text/html": [
       "<style>#sk-container-id-3 {color: black;}#sk-container-id-3 pre{padding: 0;}#sk-container-id-3 div.sk-toggleable {background-color: white;}#sk-container-id-3 label.sk-toggleable__label {cursor: pointer;display: block;width: 100%;margin-bottom: 0;padding: 0.3em;box-sizing: border-box;text-align: center;}#sk-container-id-3 label.sk-toggleable__label-arrow:before {content: \"▸\";float: left;margin-right: 0.25em;color: #696969;}#sk-container-id-3 label.sk-toggleable__label-arrow:hover:before {color: black;}#sk-container-id-3 div.sk-estimator:hover label.sk-toggleable__label-arrow:before {color: black;}#sk-container-id-3 div.sk-toggleable__content {max-height: 0;max-width: 0;overflow: hidden;text-align: left;background-color: #f0f8ff;}#sk-container-id-3 div.sk-toggleable__content pre {margin: 0.2em;color: black;border-radius: 0.25em;background-color: #f0f8ff;}#sk-container-id-3 input.sk-toggleable__control:checked~div.sk-toggleable__content {max-height: 200px;max-width: 100%;overflow: auto;}#sk-container-id-3 input.sk-toggleable__control:checked~label.sk-toggleable__label-arrow:before {content: \"▾\";}#sk-container-id-3 div.sk-estimator input.sk-toggleable__control:checked~label.sk-toggleable__label {background-color: #d4ebff;}#sk-container-id-3 div.sk-label input.sk-toggleable__control:checked~label.sk-toggleable__label {background-color: #d4ebff;}#sk-container-id-3 input.sk-hidden--visually {border: 0;clip: rect(1px 1px 1px 1px);clip: rect(1px, 1px, 1px, 1px);height: 1px;margin: -1px;overflow: hidden;padding: 0;position: absolute;width: 1px;}#sk-container-id-3 div.sk-estimator {font-family: monospace;background-color: #f0f8ff;border: 1px dotted black;border-radius: 0.25em;box-sizing: border-box;margin-bottom: 0.5em;}#sk-container-id-3 div.sk-estimator:hover {background-color: #d4ebff;}#sk-container-id-3 div.sk-parallel-item::after {content: \"\";width: 100%;border-bottom: 1px solid gray;flex-grow: 1;}#sk-container-id-3 div.sk-label:hover label.sk-toggleable__label {background-color: #d4ebff;}#sk-container-id-3 div.sk-serial::before {content: \"\";position: absolute;border-left: 1px solid gray;box-sizing: border-box;top: 0;bottom: 0;left: 50%;z-index: 0;}#sk-container-id-3 div.sk-serial {display: flex;flex-direction: column;align-items: center;background-color: white;padding-right: 0.2em;padding-left: 0.2em;position: relative;}#sk-container-id-3 div.sk-item {position: relative;z-index: 1;}#sk-container-id-3 div.sk-parallel {display: flex;align-items: stretch;justify-content: center;background-color: white;position: relative;}#sk-container-id-3 div.sk-item::before, #sk-container-id-3 div.sk-parallel-item::before {content: \"\";position: absolute;border-left: 1px solid gray;box-sizing: border-box;top: 0;bottom: 0;left: 50%;z-index: -1;}#sk-container-id-3 div.sk-parallel-item {display: flex;flex-direction: column;z-index: 1;position: relative;background-color: white;}#sk-container-id-3 div.sk-parallel-item:first-child::after {align-self: flex-end;width: 50%;}#sk-container-id-3 div.sk-parallel-item:last-child::after {align-self: flex-start;width: 50%;}#sk-container-id-3 div.sk-parallel-item:only-child::after {width: 0;}#sk-container-id-3 div.sk-dashed-wrapped {border: 1px dashed gray;margin: 0 0.4em 0.5em 0.4em;box-sizing: border-box;padding-bottom: 0.4em;background-color: white;}#sk-container-id-3 div.sk-label label {font-family: monospace;font-weight: bold;display: inline-block;line-height: 1.2em;}#sk-container-id-3 div.sk-label-container {text-align: center;}#sk-container-id-3 div.sk-container {/* jupyter's `normalize.less` sets `[hidden] { display: none; }` but bootstrap.min.css set `[hidden] { display: none !important; }` so we also need the `!important` here to be able to override the default hidden behavior on the sphinx rendered scikit-learn.org. See: https://github.com/scikit-learn/scikit-learn/issues/21755 */display: inline-block !important;position: relative;}#sk-container-id-3 div.sk-text-repr-fallback {display: none;}</style><div id=\"sk-container-id-3\" class=\"sk-top-container\"><div class=\"sk-text-repr-fallback\"><pre>Pipeline(steps=[(&#x27;standardscaler&#x27;, StandardScaler()),\n",
       "                (&#x27;svc&#x27;, SVC(gamma=&#x27;auto&#x27;))])</pre><b>In a Jupyter environment, please rerun this cell to show the HTML representation or trust the notebook. <br />On GitHub, the HTML representation is unable to render, please try loading this page with nbviewer.org.</b></div><div class=\"sk-container\" hidden><div class=\"sk-item sk-dashed-wrapped\"><div class=\"sk-label-container\"><div class=\"sk-label sk-toggleable\"><input class=\"sk-toggleable__control sk-hidden--visually\" id=\"sk-estimator-id-5\" type=\"checkbox\" ><label for=\"sk-estimator-id-5\" class=\"sk-toggleable__label sk-toggleable__label-arrow\">Pipeline</label><div class=\"sk-toggleable__content\"><pre>Pipeline(steps=[(&#x27;standardscaler&#x27;, StandardScaler()),\n",
       "                (&#x27;svc&#x27;, SVC(gamma=&#x27;auto&#x27;))])</pre></div></div></div><div class=\"sk-serial\"><div class=\"sk-item\"><div class=\"sk-estimator sk-toggleable\"><input class=\"sk-toggleable__control sk-hidden--visually\" id=\"sk-estimator-id-6\" type=\"checkbox\" ><label for=\"sk-estimator-id-6\" class=\"sk-toggleable__label sk-toggleable__label-arrow\">StandardScaler</label><div class=\"sk-toggleable__content\"><pre>StandardScaler()</pre></div></div></div><div class=\"sk-item\"><div class=\"sk-estimator sk-toggleable\"><input class=\"sk-toggleable__control sk-hidden--visually\" id=\"sk-estimator-id-7\" type=\"checkbox\" ><label for=\"sk-estimator-id-7\" class=\"sk-toggleable__label sk-toggleable__label-arrow\">SVC</label><div class=\"sk-toggleable__content\"><pre>SVC(gamma=&#x27;auto&#x27;)</pre></div></div></div></div></div></div></div>"
      ],
      "text/plain": [
       "Pipeline(steps=[('standardscaler', StandardScaler()),\n",
       "                ('svc', SVC(gamma='auto'))])"
      ]
     },
     "execution_count": 54,
     "metadata": {},
     "output_type": "execute_result"
    }
   ],
   "source": [
    "from sklearn.svm import SVC\n",
    "from sklearn.pipeline import make_pipeline\n",
    "from sklearn.preprocessing import StandardScaler\n",
    "\n",
    "# Create a machine learning pipeline\n",
    "pipeline = make_pipeline(StandardScaler(), SVC(gamma='auto'))\n",
    "\n",
    "# Train the model with the training data\n",
    "pipeline.fit(combined_training_data, combined_training_labels)\n"
   ]
  },
  {
   "cell_type": "code",
   "execution_count": 55,
   "id": "b7662330-2016-495d-83ad-7f8df910bf5d",
   "metadata": {},
   "outputs": [
    {
     "name": "stdout",
     "output_type": "stream",
     "text": [
      "Test Accuracy: 71.00%\n"
     ]
    }
   ],
   "source": [
    "from sklearn.metrics import accuracy_score\n",
    "\n",
    "# Predict the labels for the test data\n",
    "test_predictions = pipeline.predict(combined_test_data)\n",
    "\n",
    "# Calculate the accuracy\n",
    "accuracy = accuracy_score(combined_test_labels, test_predictions)\n",
    "\n",
    "print(f\"Test Accuracy: {accuracy * 100:.2f}%\")\n"
   ]
  },
  {
   "cell_type": "code",
   "execution_count": 56,
   "id": "67ca7284-d903-4dc7-aede-88037cce8994",
   "metadata": {},
   "outputs": [
    {
     "name": "stdout",
     "output_type": "stream",
     "text": [
      "              precision    recall  f1-score   support\n",
      "\n",
      "     Class 0       0.69      0.76      0.72        50\n",
      "     Class 1       0.73      0.66      0.69        50\n",
      "\n",
      "    accuracy                           0.71       100\n",
      "   macro avg       0.71      0.71      0.71       100\n",
      "weighted avg       0.71      0.71      0.71       100\n",
      "\n",
      "Confusion Matrix:\n",
      "[[38 12]\n",
      " [17 33]]\n"
     ]
    }
   ],
   "source": [
    "from sklearn.metrics import classification_report, confusion_matrix\n",
    "\n",
    "# Generate a classification report\n",
    "report = classification_report(combined_test_labels, test_predictions, target_names=['Class 0', 'Class 1'])\n",
    "print(report)\n",
    "\n",
    "# Generate and display the confusion matrix\n",
    "cm = confusion_matrix(combined_test_labels, test_predictions)\n",
    "print(\"Confusion Matrix:\")\n",
    "print(cm)\n"
   ]
  },
  {
   "cell_type": "code",
   "execution_count": 57,
   "id": "dcebe0f6-baad-45b8-abd3-f638f46efaa4",
   "metadata": {},
   "outputs": [
    {
     "data": {
      "text/html": [
       "<style>#sk-container-id-4 {color: black;}#sk-container-id-4 pre{padding: 0;}#sk-container-id-4 div.sk-toggleable {background-color: white;}#sk-container-id-4 label.sk-toggleable__label {cursor: pointer;display: block;width: 100%;margin-bottom: 0;padding: 0.3em;box-sizing: border-box;text-align: center;}#sk-container-id-4 label.sk-toggleable__label-arrow:before {content: \"▸\";float: left;margin-right: 0.25em;color: #696969;}#sk-container-id-4 label.sk-toggleable__label-arrow:hover:before {color: black;}#sk-container-id-4 div.sk-estimator:hover label.sk-toggleable__label-arrow:before {color: black;}#sk-container-id-4 div.sk-toggleable__content {max-height: 0;max-width: 0;overflow: hidden;text-align: left;background-color: #f0f8ff;}#sk-container-id-4 div.sk-toggleable__content pre {margin: 0.2em;color: black;border-radius: 0.25em;background-color: #f0f8ff;}#sk-container-id-4 input.sk-toggleable__control:checked~div.sk-toggleable__content {max-height: 200px;max-width: 100%;overflow: auto;}#sk-container-id-4 input.sk-toggleable__control:checked~label.sk-toggleable__label-arrow:before {content: \"▾\";}#sk-container-id-4 div.sk-estimator input.sk-toggleable__control:checked~label.sk-toggleable__label {background-color: #d4ebff;}#sk-container-id-4 div.sk-label input.sk-toggleable__control:checked~label.sk-toggleable__label {background-color: #d4ebff;}#sk-container-id-4 input.sk-hidden--visually {border: 0;clip: rect(1px 1px 1px 1px);clip: rect(1px, 1px, 1px, 1px);height: 1px;margin: -1px;overflow: hidden;padding: 0;position: absolute;width: 1px;}#sk-container-id-4 div.sk-estimator {font-family: monospace;background-color: #f0f8ff;border: 1px dotted black;border-radius: 0.25em;box-sizing: border-box;margin-bottom: 0.5em;}#sk-container-id-4 div.sk-estimator:hover {background-color: #d4ebff;}#sk-container-id-4 div.sk-parallel-item::after {content: \"\";width: 100%;border-bottom: 1px solid gray;flex-grow: 1;}#sk-container-id-4 div.sk-label:hover label.sk-toggleable__label {background-color: #d4ebff;}#sk-container-id-4 div.sk-serial::before {content: \"\";position: absolute;border-left: 1px solid gray;box-sizing: border-box;top: 0;bottom: 0;left: 50%;z-index: 0;}#sk-container-id-4 div.sk-serial {display: flex;flex-direction: column;align-items: center;background-color: white;padding-right: 0.2em;padding-left: 0.2em;position: relative;}#sk-container-id-4 div.sk-item {position: relative;z-index: 1;}#sk-container-id-4 div.sk-parallel {display: flex;align-items: stretch;justify-content: center;background-color: white;position: relative;}#sk-container-id-4 div.sk-item::before, #sk-container-id-4 div.sk-parallel-item::before {content: \"\";position: absolute;border-left: 1px solid gray;box-sizing: border-box;top: 0;bottom: 0;left: 50%;z-index: -1;}#sk-container-id-4 div.sk-parallel-item {display: flex;flex-direction: column;z-index: 1;position: relative;background-color: white;}#sk-container-id-4 div.sk-parallel-item:first-child::after {align-self: flex-end;width: 50%;}#sk-container-id-4 div.sk-parallel-item:last-child::after {align-self: flex-start;width: 50%;}#sk-container-id-4 div.sk-parallel-item:only-child::after {width: 0;}#sk-container-id-4 div.sk-dashed-wrapped {border: 1px dashed gray;margin: 0 0.4em 0.5em 0.4em;box-sizing: border-box;padding-bottom: 0.4em;background-color: white;}#sk-container-id-4 div.sk-label label {font-family: monospace;font-weight: bold;display: inline-block;line-height: 1.2em;}#sk-container-id-4 div.sk-label-container {text-align: center;}#sk-container-id-4 div.sk-container {/* jupyter's `normalize.less` sets `[hidden] { display: none; }` but bootstrap.min.css set `[hidden] { display: none !important; }` so we also need the `!important` here to be able to override the default hidden behavior on the sphinx rendered scikit-learn.org. See: https://github.com/scikit-learn/scikit-learn/issues/21755 */display: inline-block !important;position: relative;}#sk-container-id-4 div.sk-text-repr-fallback {display: none;}</style><div id=\"sk-container-id-4\" class=\"sk-top-container\"><div class=\"sk-text-repr-fallback\"><pre>RandomForestClassifier(random_state=42)</pre><b>In a Jupyter environment, please rerun this cell to show the HTML representation or trust the notebook. <br />On GitHub, the HTML representation is unable to render, please try loading this page with nbviewer.org.</b></div><div class=\"sk-container\" hidden><div class=\"sk-item\"><div class=\"sk-estimator sk-toggleable\"><input class=\"sk-toggleable__control sk-hidden--visually\" id=\"sk-estimator-id-8\" type=\"checkbox\" checked><label for=\"sk-estimator-id-8\" class=\"sk-toggleable__label sk-toggleable__label-arrow\">RandomForestClassifier</label><div class=\"sk-toggleable__content\"><pre>RandomForestClassifier(random_state=42)</pre></div></div></div></div></div>"
      ],
      "text/plain": [
       "RandomForestClassifier(random_state=42)"
      ]
     },
     "execution_count": 57,
     "metadata": {},
     "output_type": "execute_result"
    }
   ],
   "source": [
    "from sklearn.ensemble import RandomForestClassifier\n",
    "\n",
    "# Initialize the Random Forest classifier\n",
    "random_forest = RandomForestClassifier(n_estimators=100, random_state=42)\n",
    "\n",
    "# Train the model with the training data\n",
    "random_forest.fit(combined_training_data, combined_training_labels)\n"
   ]
  },
  {
   "cell_type": "code",
   "execution_count": 58,
   "id": "d71caaa5-6055-4e1b-978b-9070dd3253d8",
   "metadata": {},
   "outputs": [
    {
     "name": "stdout",
     "output_type": "stream",
     "text": [
      "Random Forest Test Accuracy: 67.00%\n",
      "Random Forest Classification Report:\n",
      "              precision    recall  f1-score   support\n",
      "\n",
      "     Class 0       0.67      0.66      0.67        50\n",
      "     Class 1       0.67      0.68      0.67        50\n",
      "\n",
      "    accuracy                           0.67       100\n",
      "   macro avg       0.67      0.67      0.67       100\n",
      "weighted avg       0.67      0.67      0.67       100\n",
      "\n",
      "Random Forest Confusion Matrix:\n",
      "[[33 17]\n",
      " [16 34]]\n"
     ]
    }
   ],
   "source": [
    "# Predict the labels for the test data\n",
    "rf_test_predictions = random_forest.predict(combined_test_data)\n",
    "\n",
    "# Calculate the accuracy\n",
    "rf_accuracy = accuracy_score(combined_test_labels, rf_test_predictions)\n",
    "print(f\"Random Forest Test Accuracy: {rf_accuracy * 100:.2f}%\")\n",
    "\n",
    "# Generate a classification report\n",
    "rf_report = classification_report(combined_test_labels, rf_test_predictions, target_names=['Class 0', 'Class 1'])\n",
    "print(\"Random Forest Classification Report:\")\n",
    "print(rf_report)\n",
    "\n",
    "# Generate and display the confusion matrix\n",
    "rf_cm = confusion_matrix(combined_test_labels, rf_test_predictions)\n",
    "print(\"Random Forest Confusion Matrix:\")\n",
    "print(rf_cm)\n"
   ]
  },
  {
   "cell_type": "code",
   "execution_count": 59,
   "id": "39b74014-a7e0-4759-8db6-35b690beff52",
   "metadata": {},
   "outputs": [],
   "source": [
    "from sklearn.preprocessing import StandardScaler\n",
    "\n",
    "# Scale the combined training and test data\n",
    "scaler = StandardScaler()\n",
    "training_data_scaled = scaler.fit_transform(combined_training_data)\n",
    "test_data_scaled = scaler.transform(combined_test_data)\n"
   ]
  },
  {
   "cell_type": "code",
   "execution_count": 60,
   "id": "27fdbf67-eb5f-4631-ab83-27b8fe9eb608",
   "metadata": {},
   "outputs": [
    {
     "name": "stdout",
     "output_type": "stream",
     "text": [
      "Model: \"sequential_1\"\n",
      "_________________________________________________________________\n",
      " Layer (type)                Output Shape              Param #   \n",
      "=================================================================\n",
      " dense_3 (Dense)             (None, 64)                384       \n",
      "                                                                 \n",
      " dense_4 (Dense)             (None, 64)                4160      \n",
      "                                                                 \n",
      " dense_5 (Dense)             (None, 1)                 65        \n",
      "                                                                 \n",
      "=================================================================\n",
      "Total params: 4609 (18.00 KB)\n",
      "Trainable params: 4609 (18.00 KB)\n",
      "Non-trainable params: 0 (0.00 Byte)\n",
      "_________________________________________________________________\n"
     ]
    }
   ],
   "source": [
    "import tensorflow as tf\n",
    "from tensorflow.keras import layers, models\n",
    "\n",
    "# Define the neural network architecture\n",
    "model = models.Sequential([\n",
    "    layers.Dense(64, activation='relu', input_shape=(training_data_scaled.shape[1],)),\n",
    "    layers.Dense(64, activation='relu'),\n",
    "    layers.Dense(1, activation='sigmoid')\n",
    "])\n",
    "\n",
    "# Compile the model\n",
    "model.compile(optimizer='adam',\n",
    "              loss='binary_crossentropy',\n",
    "              metrics=['accuracy'])\n",
    "\n",
    "# Summarize the model architecture\n",
    "model.summary()\n"
   ]
  },
  {
   "cell_type": "code",
   "execution_count": 61,
   "id": "2bb4853e-5ef4-40ab-8d75-25aafabd66fe",
   "metadata": {},
   "outputs": [
    {
     "name": "stdout",
     "output_type": "stream",
     "text": [
      "Epoch 1/20\n",
      "3/3 [==============================] - 1s 54ms/step - loss: 0.6991 - accuracy: 0.3875 - val_loss: 0.7013 - val_accuracy: 0.5500\n",
      "Epoch 2/20\n",
      "3/3 [==============================] - 0s 17ms/step - loss: 0.6671 - accuracy: 0.4625 - val_loss: 0.7135 - val_accuracy: 0.4000\n",
      "Epoch 3/20\n",
      "3/3 [==============================] - 0s 13ms/step - loss: 0.6362 - accuracy: 0.6625 - val_loss: 0.7157 - val_accuracy: 0.4500\n",
      "Epoch 4/20\n",
      "3/3 [==============================] - 0s 16ms/step - loss: 0.6112 - accuracy: 0.7125 - val_loss: 0.7160 - val_accuracy: 0.4500\n",
      "Epoch 5/20\n",
      "3/3 [==============================] - 0s 14ms/step - loss: 0.5879 - accuracy: 0.7625 - val_loss: 0.7164 - val_accuracy: 0.5000\n",
      "Epoch 6/20\n",
      "3/3 [==============================] - 0s 13ms/step - loss: 0.5672 - accuracy: 0.8000 - val_loss: 0.7187 - val_accuracy: 0.4000\n",
      "Epoch 7/20\n",
      "3/3 [==============================] - 0s 14ms/step - loss: 0.5492 - accuracy: 0.8000 - val_loss: 0.7247 - val_accuracy: 0.4000\n",
      "Epoch 8/20\n",
      "3/3 [==============================] - 0s 14ms/step - loss: 0.5316 - accuracy: 0.8375 - val_loss: 0.7254 - val_accuracy: 0.4000\n",
      "Epoch 9/20\n",
      "3/3 [==============================] - 0s 13ms/step - loss: 0.5159 - accuracy: 0.8375 - val_loss: 0.7221 - val_accuracy: 0.4000\n",
      "Epoch 10/20\n",
      "3/3 [==============================] - 0s 12ms/step - loss: 0.5010 - accuracy: 0.8375 - val_loss: 0.7205 - val_accuracy: 0.4000\n",
      "Epoch 11/20\n",
      "3/3 [==============================] - 0s 12ms/step - loss: 0.4856 - accuracy: 0.8375 - val_loss: 0.7148 - val_accuracy: 0.4000\n",
      "Epoch 12/20\n",
      "3/3 [==============================] - 0s 13ms/step - loss: 0.4712 - accuracy: 0.8250 - val_loss: 0.7091 - val_accuracy: 0.4000\n",
      "Epoch 13/20\n",
      "3/3 [==============================] - 0s 14ms/step - loss: 0.4577 - accuracy: 0.8250 - val_loss: 0.7047 - val_accuracy: 0.4500\n",
      "Epoch 14/20\n",
      "3/3 [==============================] - 0s 14ms/step - loss: 0.4454 - accuracy: 0.8250 - val_loss: 0.7047 - val_accuracy: 0.4500\n",
      "Epoch 15/20\n",
      "3/3 [==============================] - 0s 13ms/step - loss: 0.4325 - accuracy: 0.8250 - val_loss: 0.7098 - val_accuracy: 0.4500\n",
      "Epoch 16/20\n",
      "3/3 [==============================] - 0s 13ms/step - loss: 0.4204 - accuracy: 0.8250 - val_loss: 0.7112 - val_accuracy: 0.4500\n",
      "Epoch 17/20\n",
      "3/3 [==============================] - 0s 13ms/step - loss: 0.4112 - accuracy: 0.8250 - val_loss: 0.7096 - val_accuracy: 0.5000\n",
      "Epoch 18/20\n",
      "3/3 [==============================] - 0s 12ms/step - loss: 0.4014 - accuracy: 0.8250 - val_loss: 0.7054 - val_accuracy: 0.5000\n",
      "Epoch 19/20\n",
      "3/3 [==============================] - 0s 13ms/step - loss: 0.3940 - accuracy: 0.8250 - val_loss: 0.6999 - val_accuracy: 0.5000\n",
      "Epoch 20/20\n",
      "3/3 [==============================] - 0s 13ms/step - loss: 0.3861 - accuracy: 0.8250 - val_loss: 0.6949 - val_accuracy: 0.5000\n"
     ]
    }
   ],
   "source": [
    "# Train the model\n",
    "history = model.fit(training_data_scaled, combined_training_labels,\n",
    "                    epochs=20,\n",
    "                    batch_size=32,\n",
    "                    validation_split=0.2,  # Use 20% of the training data as validation data\n",
    "                    verbose=1)\n"
   ]
  },
  {
   "cell_type": "code",
   "execution_count": 62,
   "id": "f12251e2-1bf6-4f76-af32-29c7af7a82f5",
   "metadata": {},
   "outputs": [
    {
     "name": "stdout",
     "output_type": "stream",
     "text": [
      "4/4 - 0s - loss: 0.7316 - accuracy: 0.6900 - 19ms/epoch - 5ms/step\n",
      "\n",
      "Test Accuracy: 69.00%\n"
     ]
    }
   ],
   "source": [
    "# Evaluate the model on the test data\n",
    "test_loss, test_acc = model.evaluate(test_data_scaled, combined_test_labels, verbose=2)\n",
    "print(f'\\nTest Accuracy: {test_acc * 100:.2f}%')\n"
   ]
  },
  {
   "cell_type": "code",
   "execution_count": 165,
   "id": "2bde4f7d-f2d7-4177-905a-4e5d8e09cd0e",
   "metadata": {},
   "outputs": [
    {
     "data": {
      "text/plain": [
       "\"import matplotlib.pyplot as plt\\n\\n# Plot training & validation accuracy values\\nplt.plot(history.history['accuracy'], label='Train')\\nplt.plot(history.history['val_accuracy'], label='Validation')\\nplt.title('Model accuracy')\\nplt.ylabel('Accuracy')\\nplt.xlabel('Epoch')\\nplt.legend(loc='upper left')\\nplt.show()\\n\\n# Plot training & validation loss values\\nplt.plot(history.history['loss'], label='Train')\\nplt.plot(history.history['val_loss'], label='Validation')\\nplt.title('Model loss')\\nplt.ylabel('Loss')\\nplt.xlabel('Epoch')\\nplt.legend(loc='upper left')\\nplt.show()\\n\""
      ]
     },
     "execution_count": 165,
     "metadata": {},
     "output_type": "execute_result"
    }
   ],
   "source": [
    "'''import matplotlib.pyplot as plt\n",
    "\n",
    "# Plot training & validation accuracy values\n",
    "plt.plot(history.history['accuracy'], label='Train')\n",
    "plt.plot(history.history['val_accuracy'], label='Validation')\n",
    "plt.title('Model accuracy')\n",
    "plt.ylabel('Accuracy')\n",
    "plt.xlabel('Epoch')\n",
    "plt.legend(loc='upper left')\n",
    "plt.show()\n",
    "\n",
    "# Plot training & validation loss values\n",
    "plt.plot(history.history['loss'], label='Train')\n",
    "plt.plot(history.history['val_loss'], label='Validation')\n",
    "plt.title('Model loss')\n",
    "plt.ylabel('Loss')\n",
    "plt.xlabel('Epoch')\n",
    "plt.legend(loc='upper left')\n",
    "plt.show()\n",
    "'''"
   ]
  },
  {
   "cell_type": "markdown",
   "id": "17d95ba0-1af8-42d8-a1d5-da6ce6df5a28",
   "metadata": {},
   "source": [
    "# --------------------------------End of Task IV------------------------------------"
   ]
  },
  {
   "cell_type": "markdown",
   "id": "b92385cd-439b-4197-a107-63f888e2ce05",
   "metadata": {},
   "source": [
    "# Task V  Quantum Graph Neural Network (QGNN) "
   ]
  },
  {
   "cell_type": "code",
   "execution_count": 136,
   "id": "93bf4bd6-f877-4c5e-9686-2e840d944fa2",
   "metadata": {},
   "outputs": [],
   "source": [
    "# Ref: https://pennylane.ai/qml/demos/tutorial_qgrnn/\n",
    "import pennylane as qml\n",
    "from matplotlib import pyplot as plt\n",
    "from pennylane import numpy as np\n",
    "import scipy\n",
    "import networkx as nx\n",
    "import copy"
   ]
  },
  {
   "cell_type": "code",
   "execution_count": 147,
   "id": "bcb76ba1-ff11-43a0-97aa-a691c1b16eca",
   "metadata": {},
   "outputs": [],
   "source": [
    "qubit_number = 4\n",
    "qubits = range(qubit_number)"
   ]
  },
  {
   "cell_type": "code",
   "execution_count": 148,
   "id": "9d66960c-5338-44c7-a84c-628805a14a75",
   "metadata": {},
   "outputs": [
    {
     "name": "stdout",
     "output_type": "stream",
     "text": [
      "Edges: [(0, 1), (0, 3), (1, 2), (2, 3)]\n"
     ]
    },
    {
     "data": {
      "image/png": "[encoded data removed]",
      "text/plain": [
       "<Figure size 640x480 with 1 Axes>"
      ]
     },
     "metadata": {},
     "output_type": "display_data"
    }
   ],
   "source": [
    "ising_graph = nx.cycle_graph(qubit_number)\n",
    "\n",
    "print(f\"Edges: {ising_graph.edges}\")\n",
    "nx.draw(ising_graph)"
   ]
  },
  {
   "cell_type": "code",
   "execution_count": 149,
   "id": "fbb0adc4-4179-4ce7-8f3c-686d28ca3d03",
   "metadata": {},
   "outputs": [],
   "source": [
    "target_weights = [0.56, 1.24, 1.67, -0.79]\n",
    "target_bias = [-1.44, -1.43, 1.18, -0.93]"
   ]
  },
  {
   "cell_type": "code",
   "execution_count": 150,
   "id": "bc7d55ce-6f8d-4f7c-bfe6-5dba87f5ee34",
   "metadata": {},
   "outputs": [],
   "source": [
    "def create_hamiltonian_matrix(n_qubits, graph, weights, bias):\n",
    "\n",
    "    full_matrix = np.zeros((2 ** n_qubits, 2 ** n_qubits))\n",
    "\n",
    "    # Creates the interaction component of the Hamiltonian\n",
    "    for i, edge in enumerate(graph.edges):\n",
    "        interaction_term = 1\n",
    "        for qubit in range(0, n_qubits):\n",
    "            if qubit in edge:\n",
    "                interaction_term = np.kron(interaction_term, qml.matrix(qml.PauliZ(0)))\n",
    "            else:\n",
    "                interaction_term = np.kron(interaction_term, np.identity(2))\n",
    "        full_matrix += weights[i] * interaction_term\n",
    "\n",
    "    # Creates the bias components of the matrix\n",
    "    for i in range(0, n_qubits):\n",
    "        z_term = x_term = 1\n",
    "        for j in range(0, n_qubits):\n",
    "            if j == i:\n",
    "                z_term = np.kron(z_term, qml.matrix(qml.PauliZ(0)))\n",
    "                x_term = np.kron(x_term, qml.matrix(qml.PauliX(0)))\n",
    "            else:\n",
    "                z_term = np.kron(z_term, np.identity(2))\n",
    "                x_term = np.kron(x_term, np.identity(2))\n",
    "        full_matrix += bias[i] * z_term + x_term\n",
    "\n",
    "    return full_matrix"
   ]
  },
  {
   "cell_type": "code",
   "execution_count": 151,
   "id": "0b0bbc93-0aec-4cce-a319-f66cddf386f3",
   "metadata": {},
   "outputs": [
    {
     "data": {
      "image/png": "[encoded data removed]",
      "text/plain": [
       "<Figure size 480x480 with 1 Axes>"
      ]
     },
     "metadata": {},
     "output_type": "display_data"
    }
   ],
   "source": [
    "# Prints a visual representation of the Hamiltonian matrix\n",
    "ham_matrix = create_hamiltonian_matrix(qubit_number, ising_graph, target_weights, target_bias)\n",
    "plt.matshow(ham_matrix, cmap=\"hot\")\n",
    "plt.show()"
   ]
  },
  {
   "cell_type": "code",
   "execution_count": 152,
   "id": "e31a44fa-00a8-4333-8cd1-db00212e7266",
   "metadata": {},
   "outputs": [],
   "source": [
    "low_energy_state = [\n",
    "    (-0.054661080280306085 + 0.016713907320174026j),\n",
    "    (0.12290003656489545 - 0.03758500591109822j),\n",
    "    (0.3649337966440005 - 0.11158863596657455j),\n",
    "    (-0.8205175732627094 + 0.25093231967092877j),\n",
    "    (0.010369790825776609 - 0.0031706387262686003j),\n",
    "    (-0.02331544978544721 + 0.007129899300113728j),\n",
    "    (-0.06923183949694546 + 0.0211684344103713j),\n",
    "    (0.15566094863283836 - 0.04760201916285508j),\n",
    "    (0.014520590919500158 - 0.004441887836078486j),\n",
    "    (-0.032648113364535575 + 0.009988590222879195j),\n",
    "    (-0.09694382811137187 + 0.02965579457620536j),\n",
    "    (0.21796861485652747 - 0.06668776658411019j),\n",
    "    (-0.0027547112135013247 + 0.0008426289322652901j),\n",
    "    (0.006193695872468649 - 0.0018948418969390599j),\n",
    "    (0.018391279795405405 - 0.005625722994009138j),\n",
    "    (-0.041350974715649635 + 0.012650711602265649j),\n",
    "]"
   ]
  },
  {
   "cell_type": "code",
   "execution_count": 153,
   "id": "26325522-0056-4da3-9fc1-857f81a45266",
   "metadata": {},
   "outputs": [
    {
     "name": "stdout",
     "output_type": "stream",
     "text": [
      "Energy Expectation: -7.244508985189116\n",
      "Ground State Energy: -7.33068966129124\n"
     ]
    }
   ],
   "source": [
    "res = np.vdot(low_energy_state, (ham_matrix @ low_energy_state))\n",
    "energy_exp = np.real_if_close(res)\n",
    "print(f\"Energy Expectation: {energy_exp}\")\n",
    "\n",
    "\n",
    "ground_state_energy = np.real_if_close(min(np.linalg.eig(ham_matrix)[0]))\n",
    "print(f\"Ground State Energy: {ground_state_energy}\")"
   ]
  },
  {
   "cell_type": "code",
   "execution_count": 154,
   "id": "666a9024-c4eb-4ba7-801c-968c8ba81895",
   "metadata": {},
   "outputs": [],
   "source": [
    "def state_evolve(hamiltonian, qubits, time):\n",
    "\n",
    "    U = scipy.linalg.expm(-1j * hamiltonian * time)\n",
    "    qml.QubitUnitary(U, wires=qubits)"
   ]
  },
  {
   "cell_type": "code",
   "execution_count": 155,
   "id": "4784eba3-9724-433d-acf9-b8aae472ab99",
   "metadata": {},
   "outputs": [],
   "source": [
    "def qgrnn_layer(weights, bias, qubits, graph, trotter_step):\n",
    "\n",
    "    # Applies a layer of RZZ gates (based on a graph)\n",
    "    for i, edge in enumerate(graph.edges):\n",
    "        qml.MultiRZ(2 * weights[i] * trotter_step, wires=(edge[0], edge[1]))\n",
    "\n",
    "    # Applies a layer of RZ gates\n",
    "    for i, qubit in enumerate(qubits):\n",
    "        qml.RZ(2 * bias[i] * trotter_step, wires=qubit)\n",
    "\n",
    "    # Applies a layer of RX gates\n",
    "    for qubit in qubits:\n",
    "        qml.RX(2 * trotter_step, wires=qubit)"
   ]
  },
  {
   "cell_type": "code",
   "execution_count": 156,
   "id": "262d8933-3064-4f75-8962-1c059d8e60b1",
   "metadata": {},
   "outputs": [],
   "source": [
    "def swap_test(control, register1, register2):\n",
    "\n",
    "    qml.Hadamard(wires=control)\n",
    "    for reg1_qubit, reg2_qubit in zip(register1, register2):\n",
    "        qml.CSWAP(wires=(control, reg1_qubit, reg2_qubit))\n",
    "    qml.Hadamard(wires=control)"
   ]
  },
  {
   "cell_type": "code",
   "execution_count": 157,
   "id": "2a386ad8-cb57-487b-a2e1-f4f86edfb9bc",
   "metadata": {},
   "outputs": [
    {
     "name": "stdout",
     "output_type": "stream",
     "text": [
      "Edges: [(4, 5), (4, 6), (4, 7), (5, 6), (5, 7), (6, 7)]\n"
     ]
    },
    {
     "data": {
      "image/png": "[encoded data removed]",
      "text/plain": [
       "<Figure size 640x480 with 1 Axes>"
      ]
     },
     "metadata": {},
     "output_type": "display_data"
    }
   ],
   "source": [
    "# Defines some fixed values\n",
    "\n",
    "reg1 = tuple(range(qubit_number))  # First qubit register\n",
    "reg2 = tuple(range(qubit_number, 2 * qubit_number))  # Second qubit register\n",
    "\n",
    "control = 2 * qubit_number  # Index of control qubit\n",
    "trotter_step = 0.01  # Trotter step size\n",
    "\n",
    "# Defines the interaction graph for the new qubit system\n",
    "\n",
    "new_ising_graph = nx.complete_graph(reg2)\n",
    "\n",
    "print(f\"Edges: {new_ising_graph.edges}\")\n",
    "nx.draw(new_ising_graph)"
   ]
  },
  {
   "cell_type": "code",
   "execution_count": 158,
   "id": "e7f08187-6f93-4cae-8831-814fb174724a",
   "metadata": {},
   "outputs": [],
   "source": [
    "def qgrnn(weights, bias, time=None):\n",
    "\n",
    "    # Prepares the low energy state in the two registers\n",
    "    qml.StatePrep(np.kron(low_energy_state, low_energy_state), wires=reg1 + reg2)\n",
    "\n",
    "    # Evolves the first qubit register with the time-evolution circuit to\n",
    "    # prepare a piece of quantum data\n",
    "    state_evolve(ham_matrix, reg1, time)\n",
    "\n",
    "    # Applies the QGRNN layers to the second qubit register\n",
    "    depth = time / trotter_step  # P = t/Delta\n",
    "    for _ in range(0, int(depth)):\n",
    "        qgrnn_layer(weights, bias, reg2, new_ising_graph, trotter_step)\n",
    "\n",
    "    # Applies the SWAP test between the registers\n",
    "    swap_test(control, reg1, reg2)\n",
    "    # Returns the results of the SWAP test\n",
    "    return qml.expval(qml.PauliZ(control))"
   ]
  },
  {
   "cell_type": "code",
   "execution_count": 159,
   "id": "ca1eae57-8846-45ca-938d-c9bd0d101036",
   "metadata": {},
   "outputs": [],
   "source": [
    "N = 15  # The number of pieces of quantum data that are used for each step\n",
    "max_time = 0.1  # The maximum value of time that can be used for quantum data"
   ]
  },
  {
   "cell_type": "code",
   "execution_count": 160,
   "id": "97863ecd-1bfa-4a0a-ab9e-aaf4d44a8980",
   "metadata": {},
   "outputs": [],
   "source": [
    "rng = np.random.default_rng(seed=42)\n",
    "\n",
    "def cost_function(weight_params, bias_params):\n",
    "\n",
    "    # Randomly samples times at which the QGRNN runs\n",
    "    times_sampled = rng.random(size=N) * max_time\n",
    "\n",
    "    # Cycles through each of the sampled times and calculates the cost\n",
    "    total_cost = 0\n",
    "    for dt in times_sampled:\n",
    "        result = qgrnn_qnode(weight_params, bias_params, time=dt)\n",
    "        total_cost += -1 * result\n",
    "\n",
    "    return total_cost / N"
   ]
  },
  {
   "cell_type": "code",
   "execution_count": 161,
   "id": "daa3412a-186e-4fa2-9d11-6a21a1116acb",
   "metadata": {},
   "outputs": [],
   "source": [
    "rng = np.random.default_rng(seed=42)\n",
    "\n",
    "def cost_function(weight_params, bias_params):\n",
    "\n",
    "    # Randomly samples times at which the QGRNN runs\n",
    "    times_sampled = rng.random(size=N) * max_time\n",
    "\n",
    "    # Cycles through each of the sampled times and calculates the cost\n",
    "    total_cost = 0\n",
    "    for dt in times_sampled:\n",
    "        result = qgrnn_qnode(weight_params, bias_params, time=dt)\n",
    "        total_cost += -1 * result\n",
    "\n",
    "    return total_cost / N"
   ]
  },
  {
   "cell_type": "code",
   "execution_count": 162,
   "id": "834e3e90-6601-4117-a648-e5e1ad660037",
   "metadata": {},
   "outputs": [],
   "source": [
    "# Defines the new device\n",
    "qgrnn_dev = qml.device(\"default.qubit\", wires=2 * qubit_number + 1)\n",
    "\n",
    "# Defines the new QNode\n",
    "qgrnn_qnode = qml.QNode(qgrnn, qgrnn_dev)\n",
    "\n",
    "steps = 300\n",
    "\n",
    "optimizer = qml.AdamOptimizer(stepsize=0.5)\n",
    "\n",
    "weights = rng.random(size=len(new_ising_graph.edges), requires_grad=True) - 0.5\n",
    "bias = rng.random(size=qubit_number, requires_grad=True) - 0.5\n",
    "\n",
    "initial_weights = copy.copy(weights)\n",
    "initial_bias = copy.copy(bias)"
   ]
  },
  {
   "cell_type": "code",
   "execution_count": 163,
   "id": "f31c05bd-b6e1-4b41-9f1a-e03478bf39dc",
   "metadata": {},
   "outputs": [
    {
     "data": {
      "image/png": "[encoded data removed]",
      "text/plain": [
       "<Figure size 600x600 with 3 Axes>"
      ]
     },
     "metadata": {},
     "output_type": "display_data"
    }
   ],
   "source": [
    "new_ham_matrix = create_hamiltonian_matrix(\n",
    "    qubit_number, nx.complete_graph(qubit_number), weights, bias\n",
    ")\n",
    "\n",
    "init_ham = create_hamiltonian_matrix(\n",
    "    qubit_number, nx.complete_graph(qubit_number), initial_weights, initial_bias\n",
    ")\n",
    "\n",
    "fig, axes = plt.subplots(nrows=1, ncols=3, figsize=(6, 6))\n",
    "\n",
    "axes[0].matshow(ham_matrix, vmin=-7, vmax=7, cmap=\"hot\")\n",
    "axes[0].set_title(\"Target\", y=1.13)\n",
    "\n",
    "axes[1].matshow(init_ham, vmin=-7, vmax=7, cmap=\"hot\")\n",
    "axes[1].set_title(\"Initial\", y=1.13)\n",
    "\n",
    "axes[2].matshow(new_ham_matrix, vmin=-7, vmax=7, cmap=\"hot\")\n",
    "axes[2].set_title(\"Learned\", y=1.13)\n",
    "\n",
    "plt.subplots_adjust(wspace=0.3, hspace=0.3)\n",
    "plt.show()"
   ]
  },
  {
   "cell_type": "code",
   "execution_count": null,
   "id": "a054d84d-d11e-4eb9-aefa-a6e83312ddcb",
   "metadata": {},
   "outputs": [],
   "source": []
  },
  {
   "cell_type": "code",
   "execution_count": null,
   "id": "ed722374-1955-4ee6-bd1d-2232a8f79c9e",
   "metadata": {},
   "outputs": [],
   "source": []
  }
 ],
 "metadata": {
  "kernelspec": {
   "display_name": "Python 3 (ipykernel)",
   "language": "python",
   "name": "python3"
  },
  "language_info": {
   "codemirror_mode": {
    "name": "ipython",
    "version": 3
   },
   "file_extension": ".py",
   "mimetype": "text/x-python",
   "name": "python",
   "nbconvert_exporter": "python",
   "pygments_lexer": "ipython3",
   "version": "3.9.18"
  }
 },
 "nbformat": 4,
 "nbformat_minor": 5
}
